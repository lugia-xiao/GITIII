{
 "cells": [
  {
   "cell_type": "markdown",
   "source": [
    "# Example of GITIII usage in the Alzheimer's disease (AD) example\n",
    "\n",
    "In this tutorial, we demonstrate the functionalities of the cell-cell interaction (CCI) analyzing tool GITIII in:\n",
    "1. Estimating the influence tensor that describe how each cell is influenced by its top k (default 50) nearest neighbors\n",
    "2. Visualizing the relationship between the strength of interaction with the distance between two cells\n",
    "3. Visualizing the functions of CCI pairs using UMAP: the pair of one sender cell influencing one receiver cell is called a CCI pair, and the estimated influence from the sender cell to the receiver cell (how much the gene expression in the receiver cell would change because of the existing of the sender cell) are treated as the features of the CCI pair. This function aim to visualize how different CCI pairs belonging to different cell type combinations differ from each other in terms of their functions\n",
    "4. Prediction visualization: visualize the predicted cell expression v.s. predicted expression, can be state expression (have negative values) or raw expression (>0)\n",
    "5. Information flow: Where are the strongest CCI pairs in the slide (tissue section), with arrows in the plot indicating the interaction from one sender cell to one receiver cell\n",
    "6. Cell subtyping analysis: We first construct interpretable CCI-informed features for each cell, (how each cell type influence each measured genes in this cell), use these features to do Leiden clustering and UMAP visualization. Then differential expressed gene (DEG) analysis can be performed on these subtypes (subgroups), and we can also visualize how this cell ('s one target gene) is influenced by other cell types via heatmap.\n",
    "7. Network analysis: Using partial linear regression to make statistical test of whether one cell type significantly influence one gene in the receiver cell type, forming a significant CCI network targeting each gene."
   ],
   "metadata": {
    "collapsed": false
   },
   "id": "29ff3a4594345bfe"
  },
  {
   "cell_type": "markdown",
   "source": [
    "# Data downloading\n",
    "\n",
    "The data used in this section is the SEA-AD dataset, which contains data from 366,272 cells across 69 images of the human middle temporal gyrus from 27 donors, obtained using MERFISH. The dataset includes the measurements of 140 genes, and we utilized the 24 \"subclass\" cell type annotation from the original study. For demonstration, we used the sample 'H20.33.001.CX28.MTG.02.007.1.02.03' (Figure 3a, 3b) to illustrate within-sample heterogeneity.\n",
    "\n",
    "A processed dataset is available at https://drive.google.com/file/d/1KYpkDZHOlVJXZzKrfMbyyOl42syylw90/view?usp=sharing\n",
    "\n",
    "Suppose the data is downloaded at the working directory with name \"./AD.csv\"\n",
    "\n",
    "If you want to use your own data, the dataframe you input should have the following columns:\n",
    "\n",
    "- genes (more than one column), as described below, these columns form the expression matrix. Values in these columns must be int or float\n",
    "- \"centerx\": x coordinates of the cells. int or float\n",
    "- \"centery\": y coordinates of the cells. int or float\n",
    "- \"section\": which tissue slide this cell belongs to, since a dataset may contain more than one slide. string\n",
    "- \"subclass\": the cell type annotation for this cell. string\n",
    "\n",
    "You also need a list of measured genes in the dataset, like the code block below:"
   ],
   "metadata": {
    "collapsed": false
   },
   "id": "65dadf2670794022"
  },
  {
   "cell_type": "code",
   "execution_count": null,
   "outputs": [],
   "source": [
    "genes=['PRRT4', 'GRIP2', 'FOXP2', 'PDZD2', 'KIAA1217', 'PALMD', 'LRRC4C', 'ASIC2', 'NPAS3', 'LUZP2', 'GRIN2A', 'NLGN1', 'NTNG2', 'TACR1', 'PDGFD', 'ANK1', 'DLX1', 'CBLN2', 'ZNF804A', 'CACNA2D3', 'CDH6', 'CD22', 'ETNPPL', 'CALB1', 'TSHZ2', 'FGF13', 'KIRREL3', 'ROBO1', 'RBFOX3', 'ASTN2', 'ID3', 'TH', 'TENM2', 'ZMAT4', 'CLSTN2', 'SEMA6D', 'HPSE2', 'BTBD11', 'LRP1B', 'NOS1', 'GPC5', 'SNTB1', 'COL11A1', 'TMEM255A', 'SATB2', 'SORCS3', 'FBXL7', 'GRM8', 'GALNTL6', 'NOSTRIN', 'DCC', 'SOX6', 'MEIS2', 'STXBP6', 'SMYD1', 'SCUBE1', 'LAMA4', 'CNTN5', 'GRM7', 'KCNMB2', 'CUX2', 'LAMP5', 'SLIT3', 'TAFA1', 'PRKG1', 'CSMD1', 'CNTNAP5', 'NFIA', 'FRMPD4', 'GRID2', 'HS6ST3', 'SORCS1', 'ATRNL1', 'ADAMTS3', 'SLC24A2', 'RBFOX1', 'TMEM132D', 'NKAIN2', 'PEX5L', 'TNR', 'DGKG', 'RFX3', 'UNC5B', 'HTR2A', 'RGS12', 'CACHD1', 'RORB', 'LRRK1', 'THEMIS', 'CARTPT', 'SLC32A1', 'GAD2', 'MOG', 'DCN', 'TOX', 'ZNF385D', 'PDE4B', 'GRIP1', 'ITGB8', 'PLD5', 'NPY', 'NDNF', 'SEMA3E', 'KAZN', 'DLC1', 'PLCB1', 'HCN1', 'ITGA8', 'EBF1', 'PRRX1', 'SLC14A1', 'EGFR', 'FEZF2', 'PAX6', 'ROBO2', 'SV2C', 'DCLK1', 'EYA4', 'RYR3', 'L3MBTL4', 'GRIN3A', 'CD74', 'RGS6', 'CTSS', 'KCNIP4', 'DACH1', 'HTR2C', 'PVALB', 'HS3ST2', 'GRIK3', 'FGF12', 'LHX6', 'VIP', 'CA10', 'ADAMTSL1', 'CHODL', 'SULF1', 'NRG1', 'NXPH2', 'TLL1']"
   ],
   "metadata": {
    "collapsed": false
   },
   "id": "cee6798adf4fe351"
  },
  {
   "cell_type": "markdown",
   "source": [
    "# Initialize the influence tensor estimator"
   ],
   "metadata": {
    "collapsed": false
   },
   "id": "be496cd2cf412b00"
  },
  {
   "cell_type": "code",
   "execution_count": null,
   "outputs": [],
   "source": [
    "# Import necessary python packages\n",
    "import gitiii\n",
    "\n",
    "estimator=gitiii.estimator.GITIII_estimator(df_path=\"./AD.csv\",genes=genes,use_log_normalize=True,species=\"human\",use_nichenetv2=True,visualize_when_preprocessing=False,distance_threshold=80,process_num_neighbors=50,num_neighbors=50,batch_size_train=256,lr=1e-4,epochs=50,node_dim=256,edge_dim=48,att_dim=8,batch_size_val=256,use_cell_type_embedding=True)"
   ],
   "metadata": {
    "collapsed": false
   },
   "id": "70153ea788d82b0"
  },
  {
   "cell_type": "markdown",
   "source": [
    "## Introduction of the parameters used in the code block above:\n",
    "\n",
    "**Except for `df_path`, `genes`, `use_log_normalize`, and `species`, you can feel good to use all other hyperparameters by default as shown above, so generally speaking, you only need to fill in 4 parameters and prepare your own dataset and all other steps will be done automatically**\n",
    "\n",
    "### Data you must input:\n",
    "\n",
    ":param `df_path`: str, the path of your dataset, which should be a .csv file with columns of:\n",
    "- genes (more than one column), as described below, these columns form the expression matrix.\n",
    "            values in these columns must be int or float\n",
    "- \"centerx\": x coordinates of the cells. int or float\n",
    "- \"centery\": y coordinates of the cells. int or float\n",
    "- \"section\": which tissue slide this cell belongs to, since a dataset may contain more than one slide. string\n",
    "- \"subclass\": the cell type annotation for this cell. string\n",
    "\n",
    ":param `genes`: list of str, a python list of measured gene names in the dataset\n",
    "\n",
    ":param `use_log_normalize`: bool, whether to perform log-normalization log2(x+1) here for the expression matrix\n",
    "\n",
    "- Attention: If you would like to use your own way of data normalization or have already normalized your expression matrix in the dataframe, choose False\n",
    "\n",
    ":param `species`: str, what is the species of your dataset, must be one of \"human\" or \"mouse\"\n",
    "\n",
    "---\n",
    "\n",
    "### Hyperparameter settings (you can use the default one):\n",
    "\n",
    ":param `use_nichenetv2`: bool, whether or not to include the ligands from nichenetv2, if not, only ligand-receptor pair from cellchat and neuronchat will be used\n",
    "\n",
    ":param `visualize_when_preprocessing`: bool, whether to visualize the ST dataset when preprocessing\n",
    "\n",
    ":param `distance_threshold`: float or int, if the distance between one cell and its nearest neighbor isabove this threshold, then we think this cell is moved during the preparation of the tissue slide in the wet lab experiment, we would not include this cell in the analysis\n",
    "\n",
    ":param `process_num_neighbors`: int, how many k-nearest neighbor are needed to be calculated in preprocessing\n",
    "\n",
    ":param `num_neighbors`: int, number of neighboring cells used to predict the cell state of the center cell\n",
    "\n",
    ":param `batch_size_train`: int, batch size at the training step\n",
    "\n",
    ":param `lr`: learning rate, float\n",
    "\n",
    ":param `epochs`: int, number of training rounds\n",
    "\n",
    ":param `node_dim`: int, embedding dimension for node in the graph transformer\n",
    "\n",
    ":param `edge_dim`: int, embedding dimension for edge in the graph transformer\n",
    "\n",
    ":param `att_dim`: int, dimension needed to calculate for one-head attention\n",
    "\n",
    ":param `batch_size_val`: int, batch size at the evaluating step"
   ],
   "metadata": {
    "collapsed": false
   },
   "id": "f8d98d39aa2806f0"
  },
  {
   "cell_type": "markdown",
   "source": [
    "# Preprocess the dataset\n",
    "\n",
    "This includes calculating the top 50 nearest neighbor for each cell, splitting the cell type expression and cell state expression, this step only use CPU and takes about 15 minutes. \n",
    "\n",
    "For the next 3 step, I recommend to use script instead of using interactive software like jupyter notebook since it would took hours to finish."
   ],
   "metadata": {
    "collapsed": false
   },
   "id": "f765dea225adee99"
  },
  {
   "cell_type": "code",
   "execution_count": null,
   "outputs": [],
   "source": [
    "estimator.preprocess_dataset()"
   ],
   "metadata": {
    "collapsed": false
   },
   "id": "e3f760577bdd7480"
  },
  {
   "cell_type": "markdown",
   "source": [
    "# Train the deep learning model\n",
    "\n",
    "This step require GPU, the batch_size and model hyperparameter in the above default estimator hyperparameters roughly require 5G GPU memory, if you want it to train faster, you can increase the batch_size.\n",
    "\n",
    "The training takes about 1.5 hours in this dataset (366,272 cells, 140 genes) with A5000 24G. The model converges at about 20-th epoch, and the software will automatically save the best model with the lowest mean square error on the validation set.\n",
    "\n",
    "For your own dataset, the computation time would increase linearly with the number of cells in the dataset and sqrt(number of measured genes in the dataset)."
   ],
   "metadata": {
    "collapsed": false
   },
   "id": "aa6bb888a3b1adb6"
  },
  {
   "cell_type": "code",
   "execution_count": null,
   "outputs": [],
   "source": [
    "estimator.train()"
   ],
   "metadata": {
    "collapsed": false
   },
   "id": "eb81ab78e445361c"
  },
  {
   "cell_type": "markdown",
   "source": [
    "# Calculate the influence tensor\n",
    "\n",
    "This step require GPU, it would take about 2-10 minutes, be sure to have a large CPU memory (~100G, not GPU memory) if you have tissue sections that have many cells (>80000)"
   ],
   "metadata": {
    "collapsed": false
   },
   "id": "8daf88676af833fc"
  },
  {
   "cell_type": "code",
   "execution_count": null,
   "outputs": [],
   "source": [
    "estimator.calculate_influence_tensor()"
   ],
   "metadata": {
    "collapsed": false
   },
   "id": "9f6508e47130208"
  },
  {
   "cell_type": "markdown",
   "source": [
    "# Visualize the spatial patterns\n",
    "\n",
    "Here, we choose the tissue section (sample) 'H20.33.001.CX28.MTG.02.007.1.02.03' for demonstration\n",
    "\n",
    "For analysis that you want to target a specific gene, we use \"RORB\" for demonstration\n",
    "\n",
    "**Please pay attention that only gene that are measured in the dataset can be used, otherwise there would be error**"
   ],
   "metadata": {
    "collapsed": false
   },
   "id": "a15f5c54e9235715"
  },
  {
   "cell_type": "code",
   "execution_count": null,
   "outputs": [],
   "source": [
    "sample='H20.33.001.CX28.MTG.02.007.1.02.03'\n",
    "\n",
    "spatial_visualizer=gitiii.spatial_visualizer.Spatial_visualizer(sample=sample)"
   ],
   "metadata": {
    "collapsed": false
   },
   "id": "3963d56afe7e5138"
  },
  {
   "cell_type": "markdown",
   "source": [
    "## Visualize the relationship between \\[the averaged interaction strength between two cells\\] with \\[the distance between two cells\\]\n",
    "\n",
    "Estimate the distance scaler and visualize it, x-axis is distance or the rank of nearest neighbor,\n",
    "        the y-axis can be proportional influence or the abs value of influence\n",
    "        \n",
    ":param `rank_or_distance`: x axis is distance or the order (rank) of nearest neighbor\n",
    "\n",
    ":param `proportion_or_abs`: use the proportional influence (for each cell's each gene, the influence are all\n",
    "            positive values that sum up to 1) or the abs value of interaction\n",
    "            \n",
    ":param `target_gene`: if None, calculate the distance scaler averaged over all target genes\n",
    "\n",
    ":param `bins`, frac: parameters used of calculating and plot losses.\n",
    "\n",
    "For example:"
   ],
   "metadata": {
    "collapsed": false
   },
   "id": "d0b373849bda2858"
  },
  {
   "cell_type": "markdown",
   "source": [
    "### The averaged abs value of interaction strength v.s. distance between two cells"
   ],
   "metadata": {
    "collapsed": false
   },
   "id": "e1a0fc0b2aa1282c"
  },
  {
   "cell_type": "code",
   "execution_count": null,
   "outputs": [],
   "source": [
    "spatial_visualizer.plot_distance_scaler(rank_or_distance=\"distance\",proportion_or_abs=\"abs\",target_gene=None,bins=300, frac=0.003)"
   ],
   "metadata": {
    "collapsed": false
   },
   "id": "b5f885afa982add1"
  },
  {
   "cell_type": "markdown",
   "source": [
    "### The averaged abs value of interaction strength v.s. the order of nearest neighbor targeting gene \"RORB\""
   ],
   "metadata": {
    "collapsed": false
   },
   "id": "ab902ef125d1eaea"
  },
  {
   "cell_type": "code",
   "execution_count": null,
   "outputs": [],
   "source": [
    "spatial_visualizer.plot_distance_scaler(rank_or_distance=\"rank\",proportion_or_abs=\"proportion\",target_gene=\"RORB\",bins=300, frac=0.003)"
   ],
   "metadata": {
    "collapsed": false
   },
   "id": "e312543b0fb9508d"
  },
  {
   "cell_type": "markdown",
   "source": [
    "## UMAP visualization of function of CCI pairs\n",
    "\n",
    "Visualizing the functions of CCI pairs using UMAP: the pair of one sender cell influencing one receiver cell is called a CCI pair, and the estimated influence from the sender cell to the receiver cell (how much the gene expression in the receiver cell would change because of the existing of the sender cell) are treated as the features of the CCI pair. This function aim to visualize how different CCI pairs belonging to different cell type combinations differ from each other in terms of their functions\n",
    "\n",
    ":param `select_topk`: For each receiver cell, how many strongest CCI pair should be selected for visualize\n",
    "            one point on the UMAP is one CCI pair\n",
    "            \n",
    ":param `num_type_pair`: How many most frequent CCI type pair combination to show, since we can not demonstrate all cell_type_number*cell_type_number cell type combinations, there are too many colors"
   ],
   "metadata": {
    "collapsed": false
   },
   "id": "6a22cbb046d55ced"
  },
  {
   "cell_type": "code",
   "execution_count": null,
   "outputs": [],
   "source": [
    "spatial_visualizer.visualize_CCI_function(select_topk=5,num_type_pair=10)"
   ],
   "metadata": {
    "collapsed": false
   },
   "id": "649456927ab64071"
  },
  {
   "cell_type": "markdown",
   "source": [
    "## Prediction visualization\n",
    "\n",
    "Visualize the predicted cell expression v.s. predicted expression, can be state expression (have negative values) or raw expression (>0)"
   ],
   "metadata": {
    "collapsed": false
   },
   "id": "5c6417bff6c8fae"
  },
  {
   "cell_type": "code",
   "execution_count": null,
   "outputs": [],
   "source": [
    "# Plot predicted expression (predicted cell state expression plus known cell type expression) v.s. real expression\n",
    "spatial_visualizer.visualize_prediction(target_gene=\"RORB\",plot_state=False)"
   ],
   "metadata": {
    "collapsed": false
   },
   "id": "d2dd30dcc3d672d"
  },
  {
   "cell_type": "code",
   "execution_count": null,
   "outputs": [],
   "source": [
    "# Plot predicted cell state expression v.s. real cell state expression\n",
    "spatial_visualizer.visualize_prediction(target_gene=\"RORB\",plot_state=True)"
   ],
   "metadata": {
    "collapsed": false
   },
   "id": "675f6fed0e36b447"
  },
  {
   "cell_type": "markdown",
   "source": [
    "## Information flow visualization\n",
    "We want to find where are the strongest CCI pairs in the slide (tissue section), with arrows in the plot indicating the interaction from one sender cell to one receiver cell\n",
    "\n",
    ":param target_gene: the information flow with respect to which gene you would like to visualized\n",
    "\n",
    ":param select_topk: similar as before\n",
    "\n",
    ":param use_neuron_layer: In the plot, whether to generalize the cell types to only excitatory neurons at\n",
    "            different layers and Not_excitatory_neuron, by doing this, the plot may just look more layer-organized.\n",
    "            \n",
    ":param cutoff: In percentage, how many top CCI pairs out of select_topk*number_of_cell pairs to visualize."
   ],
   "metadata": {
    "collapsed": false
   },
   "id": "378c270c22d8a2b3"
  },
  {
   "cell_type": "code",
   "execution_count": null,
   "outputs": [],
   "source": [
    "spatial_visualizer.visualize_information_flow(target_gene=\"RORB\",select_topk=5,use_neuron_layer=True,cutoff=0.05)"
   ],
   "metadata": {
    "collapsed": false
   },
   "id": "c8b838e20807d811"
  },
  {
   "cell_type": "markdown",
   "source": [
    "# Cell subtyping analysis\n",
    "\n",
    "We first construct interpretable CCI-informed features for each cell, (how each cell type influence each measured genes in this cell), use these features to do Leiden clustering and UMAP visualization. Then differential expressed gene (DEG) analysis can be performed on these subtypes (subgroups), and we can also visualize how this cell ('s one target gene) is influenced by other cell types via heatmap.\n",
    "\n",
    ":param `sample`: which tissue slide to analyze\n",
    "\n",
    "---\n",
    "\n",
    "**You can tune the following hyperparameter to get a good subtyping results that you may want to see, different methods vary a lot**\n",
    "\n",
    ":param `normalize_to_1`: whether normalize the aggregated influence tensor so that their abs value sum\n",
    "        up to one on the second dimension\n",
    "        \n",
    ":param `use_abs`: whehter to use the absolute value for the aggregated influence tensor for downstream\n",
    "        analysis\n",
    "        \n",
    ":param `noise_threshold`: For values in the influence tensor, if its corresponding proportional influence is less than this threshold,\n",
    "        we would treat it as noise, ignore it by setting it to 0"
   ],
   "metadata": {
    "collapsed": false
   },
   "id": "7d03da72d95aacf0"
  },
  {
   "cell_type": "code",
   "execution_count": null,
   "outputs": [],
   "source": [
    "subtyping_analyzer=gitiii.subtyping_analyzer.Subtyping_anlayzer(sample=sample,normalize_to_1=True,use_abs=True,noise_threshold=2e-2)"
   ],
   "metadata": {
    "collapsed": false
   },
   "id": "260e637697cecc19"
  },
  {
   "cell_type": "code",
   "execution_count": null,
   "outputs": [],
   "source": [
    "# Take L2/3 IT as an example for CCI informed subtyping analysis\n",
    "COI=\"L2/3 IT\" # Cell Of Interest\n",
    "subtyping_analyzer.subtyping(COI=COI,resolution=0.1)"
   ],
   "metadata": {
    "collapsed": false
   },
   "id": "87f06c0a88474c92"
  },
  {
   "cell_type": "markdown",
   "source": [
    "## Differential expressed gene analysis for the subgroups\n",
    "\n",
    "function: subtyping_filter_groups(group_to_remain):\n",
    "\n",
    ":param `group_to_remain`: list of str, for example, if you want to just analyze or compare the\n",
    "            0-the group and 1-th group, as shown on the UMAP in subtyping analysis, you can make\n",
    "            group_to_remain=\\[\"1\",\"0\"\\], be aware that the items in the list are not int, they are str\n",
    "\n",
    "function: subtyping_DE(method='wilcoxon',n_gene_show=5)\n",
    "\n",
    ":param `method`: statistical method to make comparison using scanpy, default to 'wilcoxon' (rank-sum test), other available methods are: 'logreg', 't-test', 'wilcoxon', 't-test_overestim_var'\n",
    "\n",
    ":param `n_gene_show`: how many DE gene to plot for one subgroup"
   ],
   "metadata": {
    "collapsed": false
   },
   "id": "c5e5fa8c4c3bf7c5"
  },
  {
   "cell_type": "code",
   "execution_count": null,
   "outputs": [],
   "source": [
    "# We only want to compare the subgroup 0 and subgroup 1, so we do this\n",
    "subtyping_analyzer.subtyping_filter_groups([\"0\",\"1\"])\n",
    "\n",
    "subtyping_analyzer.subtyping_DE()"
   ],
   "metadata": {
    "collapsed": false
   },
   "id": "f0293784d3718696"
  },
  {
   "cell_type": "markdown",
   "source": [
    "## Analyze, proportionally, how each cell in each subgroup influenced by other cell types"
   ],
   "metadata": {
    "collapsed": false
   },
   "id": "b98d69c9271fe488"
  },
  {
   "cell_type": "code",
   "execution_count": null,
   "outputs": [],
   "source": [
    "subtyping_analyzer.subtyping_get_aggregated_influence()"
   ],
   "metadata": {
    "collapsed": false
   },
   "id": "e9e3ea84d9d72703"
  },
  {
   "cell_type": "markdown",
   "source": [
    "Or, if we just want to look at the proportional influence targeting one gene, like RORB,\n",
    "\n",
    "and we also want to know if it is up-regulated or down-regulated by other cell types, we can:"
   ],
   "metadata": {
    "collapsed": false
   },
   "id": "d34df64e1cd485a5"
  },
  {
   "cell_type": "code",
   "execution_count": null,
   "outputs": [],
   "source": [
    "subtyping_analyzer.subtyping_get_aggregated_influence_target_gene(target_gene=\"RORB\")\n",
    "# Down-regulation results in values less than 0, up-regulation results in values larger than 0"
   ],
   "metadata": {
    "collapsed": false
   },
   "id": "e999147b950af7d9"
  },
  {
   "cell_type": "markdown",
   "source": [
    "# Network analysis\n",
    "\n",
    "Using partial linear regression to make statistical test of whether one cell type significantly influence one gene in the receiver cell type, forming a significant CCI network targeting each gene.\n",
    "\n",
    ":param `noise_threshold`: For values in the influence tensor, if its corresponding proportional influence is less than this threshold,\n",
    "        we would treat it as noise, ignore it by setting it to 0"
   ],
   "metadata": {
    "collapsed": false
   },
   "id": "ebb150bcbd0a77e2"
  },
  {
   "cell_type": "code",
   "execution_count": null,
   "outputs": [],
   "source": [
    "network_analyzer=gitiii.network_analyzer.Network_analyzer(noise_threshold=2e-2)"
   ],
   "metadata": {
    "collapsed": false
   },
   "id": "87e8a7b2f99fdd8d"
  },
  {
   "cell_type": "markdown",
   "source": [
    "## Calculate the z-scores for the significant CCI network for one sample"
   ],
   "metadata": {
    "collapsed": false
   },
   "id": "af70d30edc9cae72"
  },
  {
   "cell_type": "code",
   "execution_count": null,
   "outputs": [],
   "source": [
    "network_analyzer.determine_network_sample(sample=sample)"
   ],
   "metadata": {
    "collapsed": false
   },
   "id": "e05aef5d1e059703"
  },
  {
   "cell_type": "markdown",
   "source": [
    "## Or if you want to calculate the significant CCI network for all samples"
   ],
   "metadata": {
    "collapsed": false
   },
   "id": "704ac28081db9106"
  },
  {
   "cell_type": "code",
   "execution_count": null,
   "outputs": [],
   "source": [
    "network_analyzer.determine_networks()"
   ],
   "metadata": {
    "collapsed": false
   },
   "id": "e87e33ea4f6120f8"
  },
  {
   "cell_type": "markdown",
   "source": [
    "## Calculate the counts for one sample and all samples"
   ],
   "metadata": {
    "collapsed": false
   },
   "id": "e2375c51e95a14e1"
  },
  {
   "cell_type": "code",
   "execution_count": null,
   "outputs": [],
   "source": [
    "# for one sample\n",
    "network_analyzer.get_counts_sample(sample=sample)\n",
    "# for all samples\n",
    "network_analyzer.get_counts()"
   ],
   "metadata": {
    "collapsed": false
   },
   "id": "3e6698317c815dbb"
  }
 ],
 "metadata": {
  "kernelspec": {
   "display_name": "Python 3",
   "language": "python",
   "name": "python3"
  },
  "language_info": {
   "codemirror_mode": {
    "name": "ipython",
    "version": 2
   },
   "file_extension": ".py",
   "mimetype": "text/x-python",
   "name": "python",
   "nbconvert_exporter": "python",
   "pygments_lexer": "ipython2",
   "version": "2.7.6"
  }
 },
 "nbformat": 4,
 "nbformat_minor": 5
}
